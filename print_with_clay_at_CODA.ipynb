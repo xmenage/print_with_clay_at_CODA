{
 "cells": [
  {
   "attachments": {},
   "cell_type": "markdown",
   "metadata": {
    "id": "ac9_FmrCOwQL"
   },
   "source": [
    "# Print with clay at CODA ExperienceLab\n",
    "\n",
    "This notebook can be used as a basis to create shapes for clay 3D printing. \n",
    "\n",
    "It uses polar equations to define the shape to be printed. Actually a polar equation is the only thing needed to create a new shape.\n",
    "\n",
    "The GenerativeShape module contains necessary functions that will generate the printing instructions layer by layer.\n",
    "\n",
    "The easiest way to get started is to run the whole notebook (Menu Run > Run All Cells) then visualize the result. It will also generate the gcode file ready to print which can be viewed in a gcode viewer\n",
    "\n",
    "Then modify one of the methods defined in the Shell class then assign it to the shell.polar_curve attribute\n",
    "\n",
    "The various curves used to define the shape can be explored here\n",
    "https://www.geogebra.org/calculator/cfqafypg\n",
    "\n",
    "printing parameters are defined for a Vormvrij Lutum 5M printer\n",
    "\n",
    "Visualisation and gcode generation rely on the FullControl package which can be found here https://github.com/FullControlXYZ/fullcontrol"
   ]
  },
  {
   "cell_type": "code",
   "execution_count": null,
   "metadata": {
    "id": "57XXnogSOvDx"
   },
   "outputs": [],
   "source": [
    "import numpy as np\n",
    "import fullcontrol as fc\n",
    "from math import pi, tau, sin, cos, exp\n",
    "from generative_printing import GenerativeShape\n",
    "import ipynbname"
   ]
  },
  {
   "cell_type": "code",
   "execution_count": null,
   "metadata": {},
   "outputs": [],
   "source": [
    "# shape dimensions (mm)\n",
    "vertical_scale = 140.0\n",
    "horizontal_scale = 70.0\n",
    "\n",
    "# 3D printing parameters\n",
    "extrusion_width = 4.0\n",
    "layer_height = 1.3\n",
    "first_layer_height = 1.0\n",
    "filled_bottom_layers = 0\n",
    "printer_name='lutum' # generic / ultimaker2plus / prusa_i3 / ender_3 / cr_10 / bambulab_x1 / toolchanger_T0\n",
    "file_name = ipynbname.name()\n"
   ]
  },
  {
   "cell_type": "code",
   "execution_count": null,
   "metadata": {},
   "outputs": [],
   "source": [
    "class Shell(GenerativeShape):\n",
    "    \"\"\"\n",
    "    The three methods below define each a different shape.\n",
    "    The print_polar method will call the selected method once for each layer that needs to be printed.\n",
    "    The methods return polar coordinates of the layer contour.\n",
    "    \n",
    "    The total number of layers needed to reach the desired height is calculated in print_polar and stored in self.layer_count\n",
    "    layer_index is the current layer index that goes from 0 to self.layer_count-1\n",
    "    \n",
    "    h is the height of the current layer relative to the final height of the shape as defined in vertical_scale.\n",
    "    So h takes values between 0 to 1, both included.\n",
    "    This makes it easier to define polar equations that will create a shape then scale it to the desired size\n",
    "    \n",
    "    \"\"\"\n",
    "    def polar_curve_bumpy(self, layer_index, h):\n",
    "        points_par_layer = 1000\n",
    "        perimeter_coefficient = self.horizontal_scale\n",
    "        t = np.linspace(0, tau, points_par_layer)\n",
    "        p1 = 0.2 - 0.8 * (h+0.2) * (h+1.4) * (h-1.2)\n",
    "        # rho = perimeter_coefficient * np.ones(points_par_layer)\n",
    "        # rho = perimeter_coefficient * (1+0.05*np.sin(12*t)*np.sin(12*pi*h))\n",
    "        rho = perimeter_coefficient * (1+0.05*np.sin(12*t)*np.sin(12*pi*h)) * p1\n",
    "        theta = t\n",
    "        return((rho,theta))  \n",
    "\n",
    "    def polar_curve_twisted(self, layer_index, h):\n",
    "        pattern_periods_per_turn = 5\n",
    "        points_per_period = 200\n",
    "        points_par_layer = pattern_periods_per_turn * points_per_period\n",
    "        perimeter_coefficient = self.horizontal_scale\n",
    "        t = np.linspace(0, tau, points_par_layer)\n",
    "        p1 = 0.2 - 0.8 * (h+0.2) * (h+1.4) * (h-1.2)\n",
    "        rho = perimeter_coefficient * (1+0.05*np.sin(12*t+6*pi*h)) * p1\n",
    "        theta = t\n",
    "        return((rho,theta))  \n",
    "    \n",
    "    def polar_curve_deep_sea_shell(self, layer_index, h):\n",
    "        pattern_periods_per_turn = 5\n",
    "        points_per_period = 200\n",
    "        points_par_layer = pattern_periods_per_turn * points_per_period\n",
    "        perimeter_coefficient = self.horizontal_scale\n",
    "        \n",
    "        t = np.linspace(0, tau, points_par_layer)\n",
    "\n",
    "        p3 = 0.9 * (h - 1.4) * (h + 0.2) * (h - 1.8)\n",
    "        \n",
    "        # rho = perimeter_coefficient * np.ones(points_par_layer)\n",
    "        # rho = perimeter_coefficient * (1+0.3*np.cos(pattern_periods_per_turn*t))\n",
    "        rho = perimeter_coefficient * (1+0.3*np.cos(pattern_periods_per_turn*t)) * p3\n",
    "\n",
    "        p2 = 0.28-0.3*(h+0.1)*(h+1)*(h-1)\n",
    "        \n",
    "        # theta = t\n",
    "        # theta = t + 0.3 * np.sin(2 * pattern_periods_per_turn * t)\n",
    "        theta = t + np.sin(2 * pattern_periods_per_turn * t) * p2\n",
    "        \n",
    "        return((rho,theta))"
   ]
  },
  {
   "cell_type": "code",
   "execution_count": null,
   "metadata": {},
   "outputs": [],
   "source": [
    "# Create the shape\n",
    "shell = Shell(\n",
    "    vertical_scale=vertical_scale,\n",
    "    horizontal_scale = horizontal_scale,\n",
    "    layer_height=layer_height,\n",
    "    first_layer_height=first_layer_height,\n",
    "    extrusion_width = extrusion_width,\n",
    ")\n",
    "\n",
    "# Uncomment one of the following three lines to generate the different shapes\n",
    "shell.polar_curve = shell.polar_curve_deep_sea_shell\n",
    "# shell.polar_curve = shell.polar_curve_twisted\n",
    "# shell.polar_curve = shell.polar_curve_deep_sea_shell\n",
    "\n",
    "# Create the printing steps\n",
    "shell.print_polar()\n",
    "\n",
    "# Since polar equations are centered on the origine, the shape must be moved to the positive quadrant for printing \n",
    "steps = shell.move_to_positive_quadrant()"
   ]
  },
  {
   "cell_type": "code",
   "execution_count": null,
   "metadata": {
    "id": "ZVdfnpt5RSUi"
   },
   "outputs": [],
   "source": [
    "# Preview the design\n",
    "\n",
    "fc.transform(steps, 'plot', fc.PlotControls(style='line', zoom=0.7))"
   ]
  },
  {
   "cell_type": "code",
   "execution_count": null,
   "metadata": {},
   "outputs": [],
   "source": [
    "# Generate gcode file\n",
    "initial_settings = {\n",
    "    \"print_speed\": 2400,\n",
    "    \"travel_speed\": 6000,\n",
    "    \"extrusion_width\": extrusion_width,\n",
    "    \"extrusion_height\": layer_height,\n",
    "}\n",
    "\n",
    "gcode_controls = fc.GcodeControls(\n",
    "    printer_name=printer_name,\n",
    "    initialization_data=initial_settings,\n",
    "    save_as=file_name,\n",
    "    include_date=True)\n",
    "\n",
    "gcode_string = fc.transform(steps,'gcode', gcode_controls)"
   ]
  }
 ],
 "metadata": {
  "colab": {
   "include_colab_link": true,
   "provenance": []
  },
  "kernelspec": {
   "display_name": "Python 3 (ipykernel)",
   "language": "python",
   "name": "python3"
  },
  "language_info": {
   "codemirror_mode": {
    "name": "ipython",
    "version": 3
   },
   "file_extension": ".py",
   "mimetype": "text/x-python",
   "name": "python",
   "nbconvert_exporter": "python",
   "pygments_lexer": "ipython3",
   "version": "3.12.7"
  }
 },
 "nbformat": 4,
 "nbformat_minor": 4
}
